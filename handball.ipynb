{
 "cells": [
  {
   "cell_type": "code",
   "execution_count": null,
   "metadata": {},
   "outputs": [],
   "source": [
    "%pip install -r requirements.txt"
   ]
  },
  {
   "cell_type": "markdown",
   "metadata": {},
   "source": [
    "# Imports"
   ]
  },
  {
   "cell_type": "code",
   "execution_count": null,
   "metadata": {},
   "outputs": [],
   "source": [
    "import numpy as np\n",
    "import pandas as pd\n",
    "from datetime import datetime, timedelta\n",
    "import seaborn as sns\n",
    "import matplotlib.pyplot as plt\n",
    "from tqdm import tqdm\n",
    "import random\n",
    "import os\n",
    "from sklearn.model_selection import train_test_split\n",
    "import tensorflow as tf\n",
    "from tensorflow.keras import layers, models\n",
    "import torch\n",
    "from torch.utils.data import TensorDataset, DataLoader\n",
    "from tsai.all import *\n",
    "from sklearn.metrics import f1_score\n",
    "from fastai.metrics import AccumMetric\n",
    "import optuna\n",
    "from optuna.integration import FastAIPruningCallback\n",
    "from datetime import timedelta\n",
    "import statistics"
   ]
  },
  {
   "cell_type": "code",
   "execution_count": null,
   "metadata": {},
   "outputs": [],
   "source": [
    "my_setup(optuna)"
   ]
  },
  {
   "cell_type": "code",
   "execution_count": null,
   "metadata": {},
   "outputs": [],
   "source": [
    "set_seed(42)\n",
    "\n",
    "def set_every_seed(seed=42):\n",
    "    random.seed(seed)\n",
    "    os.environ[\"PYTHONHASHSEED\"] = str(seed)\n",
    "    np.random.seed(seed)\n",
    "    torch.manual_seed(seed)\n",
    "    torch.cuda.manual_seed(seed)\n",
    "    torch.cuda.manual_seed_all(seed)  # if you are using multi-GPU.\n",
    "    torch.backends.cudnn.deterministic = True\n",
    "    torch.backends.cudnn.benchmark = False\n",
    "\n",
    "seed = 42\n",
    "set_every_seed(seed)\n",
    "tqdm.pandas()"
   ]
  },
  {
   "cell_type": "code",
   "execution_count": null,
   "metadata": {},
   "outputs": [],
   "source": [
    "pd.set_option(\"display.max_columns\", 70)\n",
    "pd.set_option(\"display.max_rows\", 1000)"
   ]
  },
  {
   "cell_type": "markdown",
   "metadata": {},
   "source": [
    "# Preparation"
   ]
  },
  {
   "cell_type": "markdown",
   "metadata": {},
   "source": [
    "## Prepare dfs"
   ]
  },
  {
   "cell_type": "code",
   "execution_count": null,
   "metadata": {},
   "outputs": [],
   "source": [
    "match_h1 = pd.read_csv(r\"handball_sample\\MD15_Flensburg_Melsungen\\SG_Flensburg-Handewitt_vs._MT__phase_1.HZ_positions.csv\", sep=\";\")\n",
    "match_h2 = pd.read_csv(r\"handball_sample\\MD15_Flensburg_Melsungen\\SG_Flensburg-Handewitt_vs._MT__phase_2.HZ_positions.csv\", sep=\";\")\n",
    "tags = pd.read_csv(r\"handball_sample\\MD15_Flensburg_Melsungen\\tags_flensburg_melsungen_md15_s2324.csv\", sep=\";\")"
   ]
  },
  {
   "cell_type": "code",
   "execution_count": null,
   "metadata": {},
   "outputs": [],
   "source": [
    "tags"
   ]
  },
  {
   "cell_type": "code",
   "execution_count": null,
   "metadata": {},
   "outputs": [],
   "source": [
    "match_h1.head()"
   ]
  },
  {
   "cell_type": "code",
   "execution_count": null,
   "metadata": {},
   "outputs": [],
   "source": [
    "match_h2.tail()"
   ]
  },
  {
   "cell_type": "code",
   "execution_count": null,
   "metadata": {},
   "outputs": [],
   "source": [
    "match_full = pd.concat([match_h1, match_h2]).reset_index().drop([\"index\", \"heart rate in bpm\", \"core temperature in celsius\", \"player orientation in deg\",  \"Unnamed: 23\"], axis=1)\n",
    "match_full"
   ]
  },
  {
   "cell_type": "code",
   "execution_count": null,
   "metadata": {},
   "outputs": [],
   "source": [
    "match_full[\"formatted local time\"] = pd.to_datetime(match_full[\"formatted local time\"])"
   ]
  },
  {
   "cell_type": "code",
   "execution_count": null,
   "metadata": {},
   "outputs": [],
   "source": [
    "tags.drop([\"player\"], axis=1, inplace=True)"
   ]
  },
  {
   "cell_type": "markdown",
   "metadata": {},
   "source": [
    "# Data Understanding"
   ]
  },
  {
   "cell_type": "markdown",
   "metadata": {},
   "source": [
    "## General"
   ]
  },
  {
   "cell_type": "code",
   "execution_count": null,
   "metadata": {},
   "outputs": [],
   "source": [
    "# See where multiple players get possession at same time\n",
    "match_ball_poss = match_full[~np.isnan(match_full[\"ball possession (id of possessed ball)\"])]\n",
    "dups = match_ball_poss[match_ball_poss.duplicated([\"ts in ms\", \"ball possession (id of possessed ball)\"], keep=False)]\n",
    "counts = dups.groupby([\"ts in ms\", \"ball possession (id of possessed ball)\"]).size()\n",
    "rows_with_two_or_more = counts[counts >= 2].reset_index()\n",
    "result = match_ball_poss.merge(rows_with_two_or_more, on=[\"ts in ms\", \"ball possession (id of possessed ball)\"])\n",
    "result"
   ]
  },
  {
   "cell_type": "code",
   "execution_count": null,
   "metadata": {},
   "outputs": [],
   "source": [
    "grouped = match_full.groupby(\"formatted local time\")[\"ball possession (id of possessed ball)\"].count()\n",
    "player_count_frequency = grouped.value_counts()\n",
    "# Sort index for better readability\n",
    "player_count_frequency = player_count_frequency.sort_index()\n",
    "\n",
    "player_count_frequency = player_count_frequency.reset_index()\n",
    "player_count_frequency.columns = [\"number_of_players_in_possession\", \"frequency\"]"
   ]
  },
  {
   "cell_type": "code",
   "execution_count": null,
   "metadata": {},
   "outputs": [],
   "source": [
    "player_count_frequency"
   ]
  },
  {
   "cell_type": "code",
   "execution_count": null,
   "metadata": {},
   "outputs": [],
   "source": [
    "print(match_full.info())"
   ]
  },
  {
   "cell_type": "code",
   "execution_count": null,
   "metadata": {},
   "outputs": [],
   "source": [
    "match_full.describe()"
   ]
  },
  {
   "cell_type": "markdown",
   "metadata": {},
   "source": [
    "# Checking if timestamps in video and tabular data are comparable"
   ]
  },
  {
   "cell_type": "markdown",
   "metadata": {},
   "source": [
    "## Find unique players of both teams in the game to create the keys txt file"
   ]
  },
  {
   "cell_type": "code",
   "execution_count": null,
   "metadata": {},
   "outputs": [],
   "source": [
    "keys_dict = {\"league_id\": [], \"team\": [], \"jersey_number\": [], \"name\": []}\n",
    "for id in match_full[\"league id\"].unique():\n",
    "    if \"Ball\" not in id:\n",
    "        row = match_full[match_full[\"league id\"] == id].iloc[0]\n",
    "        keys_dict[\"league_id\"].append(row[\"league id\"])\n",
    "        keys_dict[\"team\"].append(row[\"group name\"])\n",
    "        keys_dict[\"jersey_number\"].append(row[\"number\"])\n",
    "        keys_dict[\"name\"].append(row[\"full name\"])\n",
    "\n",
    "keys_df = pd.DataFrame(keys_dict)"
   ]
  },
  {
   "cell_type": "code",
   "execution_count": null,
   "metadata": {},
   "outputs": [],
   "source": [
    "tags[\"tag text\"].replace(\"20_kevin_moller\", \"20_kevin_møller\", inplace=True)\n",
    "tags[\"tag text\"].replace(\"63_lasse_moller\", \"63_lasse_møller\", inplace=True)\n",
    "tags[\"tag text\"].replace(\"11_petter_overby\", \"11_petter_øverby\", inplace=True)\n",
    "tags[\"tag text\"].replace(\"71_elias_eliefsen_á_skipagotu\", \"71_elias_eliefsen_á_skipagøtu\", inplace=True)"
   ]
  },
  {
   "cell_type": "code",
   "execution_count": null,
   "metadata": {},
   "outputs": [],
   "source": [
    "tags[\"tag text\"].unique()"
   ]
  },
  {
   "cell_type": "code",
   "execution_count": null,
   "metadata": {},
   "outputs": [],
   "source": [
    "def change_tag_name(tag):\n",
    "    if tag != \"no_possession\" and tag != \"time_check_position\" and tag != \"game_start\" and tag != \"ball_not_visible\":\n",
    "        first_underscore_pos = tag.find(\"_\")\n",
    "        name = tag[first_underscore_pos + 1:]\n",
    "        print(name)\n",
    "\n",
    "for tag in tags[\"tag text\"].unique():\n",
    "    change_tag_name(tag)"
   ]
  },
  {
   "cell_type": "code",
   "execution_count": null,
   "metadata": {},
   "outputs": [],
   "source": [
    "keys_df.sort_values([\"team\", \"jersey_number\"], ascending=[True, True])"
   ]
  },
  {
   "cell_type": "markdown",
   "metadata": {},
   "source": [
    "## Check time"
   ]
  },
  {
   "cell_type": "code",
   "execution_count": null,
   "metadata": {},
   "outputs": [],
   "source": [
    "match_full[~pd.isnull(match_full[\"player orientation category (forward, back, left, right)\"])]"
   ]
  },
  {
   "cell_type": "code",
   "execution_count": null,
   "metadata": {},
   "outputs": [],
   "source": [
    "match_start = match_full[match_full[~np.isnan(match_full[\"ball possession (id of possessed ball)\"])].index[0]:]"
   ]
  },
  {
   "cell_type": "code",
   "execution_count": null,
   "metadata": {},
   "outputs": [],
   "source": [
    "match_start_poss = match_start.dropna(subset=[\"ball possession (id of possessed ball)\"])\n",
    "\n",
    "# Drop consecutive rows where same player is still in possession\n",
    "match_start_poss = match_start_poss[match_start_poss[\"sensor id\"] != match_start_poss[\"sensor id\"].shift(1)]"
   ]
  },
  {
   "cell_type": "code",
   "execution_count": null,
   "metadata": {},
   "outputs": [],
   "source": [
    "match_start.loc[:, \"time diff from start\"] = match_start.loc[:, \"formatted local time\"] - match_start[\"formatted local time\"].iloc[0]"
   ]
  },
  {
   "cell_type": "markdown",
   "metadata": {},
   "source": [
    "### Convert tags timestamp to actual time"
   ]
  },
  {
   "cell_type": "code",
   "execution_count": null,
   "metadata": {},
   "outputs": [],
   "source": [
    "tags[tags[\"tag text\"].isin([\"time_check_position\"])]"
   ]
  },
  {
   "cell_type": "code",
   "execution_count": null,
   "metadata": {},
   "outputs": [],
   "source": [
    "def round_to_nearest_50ms(dt):\n",
    "    \"\"\" Round the timestamps to nearest 50ms.\n",
    "    \n",
    "    Parameters:\n",
    "    dt -- the datetime timestamps\n",
    "\n",
    "    Returns:\n",
    "    rounded_dt -- the timestamps rounded to nearest 50ms\n",
    "    \"\"\"\n",
    "    # Convert microseconds to milliseconds and round to nearest 50 milliseconds\n",
    "    milliseconds = round(dt.microsecond / 1000.0 / 50.0) * 50\n",
    "    # Rebuild datetime with new milliseconds, adjusting for overflow\n",
    "    new_second = dt.second\n",
    "    if milliseconds >= 1000:\n",
    "        milliseconds -= 1000\n",
    "        new_second += 1\n",
    "    # Ensure seconds don't overflow\n",
    "    if new_second >= 60:\n",
    "        new_second -= 60\n",
    "        dt += timedelta(minutes=1)\n",
    "    rounded_dt = dt.replace(second=new_second, microsecond=int(milliseconds * 1000))\n",
    "    return rounded_dt"
   ]
  },
  {
   "cell_type": "code",
   "execution_count": null,
   "metadata": {},
   "outputs": [],
   "source": [
    "offset = 0\n",
    "game = \"\"\n",
    "tags[\"# time (in ms) vid\"] = tags[\"# time (in ms)\"]\n",
    "tags[\"# time (in ms)\"] = tags[\"# time (in ms)\"] - tags[\"# time (in ms)\"][tags[\"tag text\"] == \"game_start\"].iloc[0]\n",
    "\n",
    "# Get game start time\n",
    "if game == \"FLEvsEIS\":\n",
    "    table_start_time = pd.to_datetime(\"2023-10-28 19:02:14.000\") # No player has possession in first half of that game according to Kinexon\n",
    "# elif game == \"FLEvsRNL\":\n",
    "#     table_start_time = pd.to_datetime(\"2023-11-18 18:02:10.650\") # Possession starts to late\n",
    "else:\n",
    "    table_start_time = match_start_poss[\"formatted local time\"].iloc[0]\n",
    "\n",
    " # Create adjusted timestamp column where video time of tags is converted to actual timestamp \n",
    "    tags[\"adjusted_timestamp\"] = tags[\"# time (in ms)\"].apply(lambda x: table_start_time + timedelta(milliseconds=x + offset))\n",
    "    tags[\"rounded_timestamp\"] = tags[\"adjusted_timestamp\"].apply(round_to_nearest_50ms) # Round adjusted timestamps"
   ]
  },
  {
   "cell_type": "code",
   "execution_count": null,
   "metadata": {},
   "outputs": [],
   "source": [
    "table_start_time"
   ]
  },
  {
   "cell_type": "code",
   "execution_count": null,
   "metadata": {},
   "outputs": [],
   "source": [
    "# Forward fill tags df to have correct merging of match and tags df \n",
    "video_start_time = tags[\"rounded_timestamp\"].iloc[0]\n",
    "table_end_time = match_full[\"formatted local time\"].iloc[-1]\n",
    "\n",
    "all_timestamps = pd.date_range(start=video_start_time, end=table_end_time, freq=\"50L\")\n",
    "all_timestamps_df = pd.DataFrame(all_timestamps, columns=[\"timestamp\"])\n",
    "\n",
    "# Merge tags with all timestamps and forward fill\n",
    "tags_full = pd.merge(all_timestamps_df, tags, left_on=\"timestamp\", right_on=\"rounded_timestamp\", how=\"left\")\n",
    "tags_full[\"tag text\"].replace([\"game_start\", \"no_possession\", \"time_check_position\"], np.nan, inplace=True)\n",
    "cols_from_tags = tags.columns.difference([\"# time (in ms)\", \"adjusted_timestamp\"])\n",
    "for col in cols_from_tags:\n",
    "    tags_full[col] = tags_full[col].ffill()"
   ]
  },
  {
   "cell_type": "code",
   "execution_count": null,
   "metadata": {},
   "outputs": [],
   "source": [
    "merged_df = pd.merge(match_full, tags_full, left_on=\"formatted local time\", right_on=\"timestamp\", how=\"left\")\n",
    "merged_df"
   ]
  },
  {
   "cell_type": "code",
   "execution_count": null,
   "metadata": {},
   "outputs": [],
   "source": [
    "tags[tags[\"tag text\"].isin([\"time_check_position\"])]"
   ]
  },
  {
   "cell_type": "code",
   "execution_count": null,
   "metadata": {},
   "outputs": [],
   "source": [
    "tag_to_check = 0\n",
    "ts_to_check = tags[tags[\"tag text\"].isin([\"time_check_position\"])][\"rounded_timestamp\"].iloc[tag_to_check]\n",
    "# Find index where first of i-th check-tag is used\n",
    "try:\n",
    "    # Get previous and next timestamps based on timestamp to check for consideration\n",
    "    check_min, check_max = match_full[match_full[\"formatted local time\"] == ts_to_check].index[0] - 150, match_full[match_full[\"formatted local time\"] == ts_to_check].index[0] + 165\n",
    "except IndexError:\n",
    "    # If timestamp to check is not available in data, proceed to next timestamp\n",
    "    print(ts_to_check, \"Data not available\")\n",
    "\n",
    "df_to_check = match_full[match_full[\"group name\"] == \"Ball\"].loc[check_min:check_max]\n",
    "if df_to_check.size == 0:\n",
    "    print(\"Ball is not found in area to check\")\n",
    "\n",
    "if df_to_check[\"z in m\"].min() > 5:\n",
    "    # If z value is over 5m in every considered timestamp, proceed to next timestamp\n",
    "    print(ts_to_check, \"Z sensor in ball wrong, this position can't be reliably checked\")\n",
    "\n",
    "time_in_df = df_to_check[\"formatted local time\"][df_to_check[\"z in m\"] == df_to_check[\"z in m\"].min()]\n",
    "\n",
    "# Print difference between tabular and video times\n",
    "difference = abs(time_in_df - ts_to_check)\n",
    "print(\"Checkpoint\", tag_to_check, \", Video\", ts_to_check, \", Difference in ms is:\", difference.iloc[0].microseconds/1000, \", Tabular\", time_in_df.iloc[0])"
   ]
  },
  {
   "cell_type": "code",
   "execution_count": null,
   "metadata": {},
   "outputs": [],
   "source": [
    "df_to_check"
   ]
  },
  {
   "cell_type": "markdown",
   "metadata": {},
   "source": [
    "# Wrong data"
   ]
  },
  {
   "cell_type": "code",
   "execution_count": null,
   "metadata": {},
   "outputs": [],
   "source": [
    "match_training_stats = pd.read_csv(r\"handball_sample\\match_training_stats.csv\", index_col=0, sep=\";\")\n",
    "match_test_stats = pd.read_csv(r\"handball_sample\\match_test_stats.csv\", index_col=0, sep=\";\")\n",
    "match_training_model = pd.read_csv(r\"handball_sample\\match_training_model.csv\", index_col=0, sep=\";\")\n",
    "match_test_model = pd.read_csv(r\"handball_sample\\match_test_model.csv\", index_col=0, sep=\";\")"
   ]
  },
  {
   "cell_type": "code",
   "execution_count": null,
   "metadata": {},
   "outputs": [],
   "source": [
    "match_training_stats[:15]"
   ]
  },
  {
   "cell_type": "code",
   "execution_count": null,
   "metadata": {},
   "outputs": [],
   "source": [
    "grouped_train = match_training_model.groupby(by=[\"game\"]).size()\n",
    "grouped_test = match_test_model.groupby(by=[\"game\"]).size()"
   ]
  },
  {
   "cell_type": "code",
   "execution_count": null,
   "metadata": {},
   "outputs": [],
   "source": [
    "filtered_df_train = match_training_model[~match_training_model[\"group name\"].str.contains(\"Ball\")]\n",
    "filtered_df_train = filtered_df_train[~filtered_df_train[\"tag text\"].str.contains(\"not_visible\")]\n",
    "grouped_train = filtered_df_train.groupby(\"game\").size()\n",
    "num_rows_train = grouped_train.sum()\n",
    "print(\"Number of rows after group by without 'Ball':\", grouped_train, num_rows_train)\n",
    "\n",
    "print(\"------\")\n",
    "filtered_df_test = match_test_model[~match_test_model[\"group name\"].str.contains(\"Ball\")]\n",
    "grouped_test = filtered_df_test.groupby(\"game\").size()\n",
    "num_rows_test = grouped_test.sum()\n",
    "print(\"Number of rows after group by without 'Ball':\", grouped_test, num_rows_test)"
   ]
  },
  {
   "cell_type": "code",
   "execution_count": null,
   "metadata": {},
   "outputs": [],
   "source": [
    "filtered_df_train = match_training_model[~match_training_model[\"group name\"].str.contains(\"Ball\")]\n",
    "filtered_df_train = filtered_df_train[~filtered_df_train[\"tag text\"].str.contains(\"not_visible\")]\n",
    "grouped_train = filtered_df_train.groupby(\"game\").size()\n",
    "num_rows_train = grouped_train.sum()\n",
    "print(\"Number of rows after group by without 'Ball':\", grouped_train, num_rows_train)\n",
    "\n",
    "print(\"------\")\n",
    "filtered_df_test = match_test_model[~match_test_model[\"group name\"].str.contains(\"Ball\")]\n",
    "filtered_df_test = filtered_df_test[~filtered_df_test[\"tag text\"].str.contains(\"not_visible\")]\n",
    "grouped_test = filtered_df_test.groupby(\"game\").size()\n",
    "num_rows_test = grouped_test.sum()\n",
    "print(\"Number of rows after group by without 'Ball':\", grouped_test, num_rows_test)"
   ]
  },
  {
   "cell_type": "code",
   "execution_count": null,
   "metadata": {},
   "outputs": [],
   "source": [
    "match_stats = pd.concat([match_training_stats, match_test_stats])\n",
    "match_model = pd.concat([match_training_model, match_test_model])"
   ]
  },
  {
   "cell_type": "code",
   "execution_count": null,
   "metadata": {},
   "outputs": [],
   "source": [
    "group_counts_train_stats = match_training_stats.groupby(by=[\"formatted local time\", \"game\"])[\"group name\"].agg(ball_count=lambda x: (x == \"Ball\").sum(),\n",
    "                                                                                                               player_count=lambda x: (x != \"Ball\").sum()).reset_index()\n",
    "group_counts_test_stats = match_test_stats.groupby(by=[\"formatted local time\", \"game\"])[\"group name\"].agg(ball_count=lambda x: (x == \"Ball\").sum(),\n",
    "                                                                                                          player_count=lambda x: (x != \"Ball\").sum()).reset_index()\n",
    "group_counts_train_model = match_training_model.groupby(by=[\"formatted local time\", \"game\"])[\"group name\"].agg(ball_count=lambda x: (x == \"Ball\").sum(),\n",
    "                                                                                                               player_count=lambda x: (x != \"Ball\").sum()).reset_index()\n",
    "group_counts_test_model = match_test_model.groupby(by=[\"formatted local time\", \"game\"])[\"group name\"].agg(ball_count=lambda x: (x == \"Ball\").sum(),\n",
    "                                                                                                          player_count=lambda x: (x != \"Ball\").sum()).reset_index()"
   ]
  },
  {
   "cell_type": "code",
   "execution_count": null,
   "metadata": {},
   "outputs": [],
   "source": [
    "group_counts_stats = pd.concat([group_counts_train_stats, group_counts_test_stats])\n",
    "group_counts_model = pd.concat([group_counts_train_model, group_counts_test_model])"
   ]
  },
  {
   "cell_type": "code",
   "execution_count": null,
   "metadata": {},
   "outputs": [],
   "source": [
    "# Usable timestamps \n",
    "ts_counts = match_full[\"formatted local time\"].value_counts()\n",
    "usable_ts = ts_counts[ts_counts >= 15].index\n",
    "match_full = match_full[match_full[\"formatted local time\"].isin(usable_ts)]\n",
    "ts_counts_over_15 = match_full[\"formatted local time\"].value_counts()\n",
    "usable_ts_over_15 = ts_counts[ts_counts > 15].index\n",
    "match_over_15 = match_full[match_full[\"formatted local time\"].isin(usable_ts_over_15)]\n",
    "match_over_15[\"formatted local time\"].value_counts()"
   ]
  },
  {
   "cell_type": "code",
   "execution_count": null,
   "metadata": {},
   "outputs": [],
   "source": [
    "timestamps_with_no_possession = match_full.groupby(\"formatted local time\").filter(lambda x: x[\"ball possession (id of possessed ball)\"].isna().all())\n",
    "\n",
    "# Unique timestamps where no player has possession of ball\n",
    "unique_timestamps = timestamps_with_no_possession[\"formatted local time\"].nunique()\n",
    "unique_timestamps_total = match_full[\"formatted local time\"].nunique()\n",
    "unique_timestamps_without_inv = merged_df[merged_df[\"tag text\"] != \"ball_not_visible\"][\"formatted local time\"].nunique()\n",
    "\n",
    "print(unique_timestamps) \n",
    "print(unique_timestamps_total)\n",
    "print(unique_timestamps_without_inv)"
   ]
  },
  {
   "cell_type": "code",
   "execution_count": null,
   "metadata": {},
   "outputs": [],
   "source": [
    "# Timestamps with wrong z-column sensor data\n",
    "match_full[match_full[\"z in m\"] > 10][\"formatted local time\"].unique()"
   ]
  },
  {
   "cell_type": "markdown",
   "metadata": {},
   "source": [
    "# Statistics"
   ]
  },
  {
   "cell_type": "markdown",
   "metadata": {},
   "source": [
    "## Statistics for data in general"
   ]
  },
  {
   "cell_type": "code",
   "execution_count": null,
   "metadata": {},
   "outputs": [],
   "source": [
    "for group_counts in [group_counts_stats, group_counts_model]:\n",
    "    ball_game_counts = group_counts.groupby(by=[\"game\"], sort=False)[\"ball_count\"].value_counts(sort=False)\n",
    "    ball_game_counts = ball_game_counts.reset_index()\n",
    "    ball_game_counts.columns = [\"number_of_balls_in_game\", \"frequency\", \"game\"]\n",
    "\n",
    "    sns.set_theme(style=\"whitegrid\")\n",
    "    ax = sns.catplot(x=\"number_of_balls_in_game\", y=\"game\", hue=\"frequency\", kind=\"bar\", data=ball_game_counts, palette=\"ch:s=.25,rot=-.25\", height=6)\n",
    "\n",
    "    ax._legend.set_bbox_to_anchor((1, 0.9))\n",
    "\n",
    "    plt.title(\"Frequency of balls in timestamps each game\", fontsize=20)\n",
    "    plt.xlabel(\"Game and number of balls\", fontsize=15)\n",
    "    plt.ylabel(\"Frequency\", fontsize=15)\n",
    "\n",
    "    for ax in ax.axes.flat:\n",
    "        for p in ax.patches:\n",
    "            if p.get_width() != 0 and p.get_height() != 0:\n",
    "                ax.text(p.get_x() + p.get_width() / 2., p.get_height(), f\"{int(p.get_height())}\",\n",
    "                        fontsize=11, ha=\"center\", va=\"bottom\")\n",
    "\n",
    "    plt.xticks()\n",
    "    plt.tight_layout()\n",
    "    plt.show()"
   ]
  },
  {
   "cell_type": "code",
   "execution_count": null,
   "metadata": {},
   "outputs": [],
   "source": [
    "for group_counts in [group_counts_stats, group_counts_model]:\n",
    "    player_game_counts = group_counts.groupby(by=[\"game\"], sort=False)[\"player_count\"].value_counts(sort=False)\n",
    "    player_game_counts_df = pd.DataFrame(player_game_counts).reset_index()\n",
    "    player_game_counts_df.columns = [\"game\", \"number_of_players_in_timestamp\", \"frequency\"]\n",
    "    for game in player_game_counts_df[\"game\"].unique():\n",
    "        print(game)\n",
    "        game_df = player_game_counts_df[player_game_counts_df[\"game\"] == game]\n",
    "\n",
    "        ax = sns.barplot(x=\"number_of_players_in_timestamp\", y=\"frequency\", data=game_df, palette=\"ch:s=.25,rot=-.25\")\n",
    "\n",
    "        plt.title(f\"Frequency of players in a timestamp in game {game}\", fontsize=14)\n",
    "        plt.xlabel(\"Number of players in timestamp\", fontsize=12)\n",
    "        plt.ylabel(\"Frequency\", fontsize=12)\n",
    "\n",
    "        for p in ax.patches:\n",
    "            ax.text(p.get_x() + p.get_width()/2., p.get_height(), f\"{int(p.get_height())}\", \n",
    "                    fontsize=12, ha=\"center\", va=\"bottom\")\n",
    "        \n",
    "        sns.set_theme(style=\"whitegrid\")\n",
    "\n",
    "        plt.xticks()\n",
    "        plt.tight_layout()\n",
    "        plt.show()"
   ]
  },
  {
   "cell_type": "code",
   "execution_count": null,
   "metadata": {},
   "outputs": [],
   "source": [
    "grouped_test = match_stats.groupby(by=[\"formatted local time\", \"game\"])[\"ball possession (id of possessed ball)\"].count()\n",
    "player_count_frequency_test = grouped_test.groupby(by=[\"game\"], sort=False).value_counts(sort=False)\n",
    "player_count_frequency_test = player_count_frequency_test.reset_index()\n",
    "player_count_frequency_test.columns = [\"game\", \"number_of_players_in_possession\", \"frequency\"]\n",
    "player_count_frequency_test"
   ]
  },
  {
   "cell_type": "code",
   "execution_count": null,
   "metadata": {},
   "outputs": [],
   "source": [
    "for match in [match_stats, match_model]:\n",
    "    grouped = match.groupby(by=[\"formatted local time\", \"game\"])[\"ball possession (id of possessed ball)\"].count()\n",
    "    player_count_frequency = grouped.groupby(by=[\"game\"], sort=False).value_counts(sort=False)\n",
    "    player_count_frequency = player_count_frequency.reset_index()\n",
    "    player_count_frequency.columns = [\"game\", \"number_of_players_in_possession\", \"frequency\"]\n",
    "\n",
    "    for game in player_count_frequency[\"game\"].unique():\n",
    "        print(game)\n",
    "        game_df = player_count_frequency[player_count_frequency[\"game\"] == game]\n",
    "\n",
    "        sns.set_theme(style=\"whitegrid\")\n",
    "        ax = sns.barplot(x=\"number_of_players_in_possession\", y=\"frequency\", data=game_df, palette=\"ch:s=.25,rot=-.25\")\n",
    "\n",
    "        plt.title(f\"Frequency of number of players in possession in game {game}\", fontsize=14)\n",
    "        plt.xlabel(\"Number of players in possession\", fontsize=12)\n",
    "        plt.ylabel(\"Frequency\", fontsize=12)\n",
    "\n",
    "        for p in ax.patches:\n",
    "            ax.text(p.get_x() + p.get_width()/2., p.get_height(), f\"{int(p.get_height())}\", \n",
    "                    fontsize=12, ha=\"center\", va=\"bottom\")\n",
    "        \n",
    "\n",
    "        plt.xticks()\n",
    "        plt.tight_layout()\n",
    "        plt.show()"
   ]
  },
  {
   "cell_type": "code",
   "execution_count": null,
   "metadata": {},
   "outputs": [],
   "source": [
    "filtered_merged_df_train_stats = pd.read_csv(r\"handball_sample\\match_training_stats.csv\", sep=\";\", index_col=0)\n",
    "filtered_merged_df_test_stats = pd.read_csv(r\"handball_sample\\match_test_stats.csv\", sep=\";\", index_col=0)\n",
    "filtered_merged_df_train_model = pd.read_csv(r\"handball_sample\\match_training_model.csv\", sep=\";\", index_col=0)\n",
    "filtered_merged_df_test_model = pd.read_csv(r\"handball_sample\\match_test_model.csv\", sep=\";\", index_col=0)"
   ]
  },
  {
   "cell_type": "code",
   "execution_count": null,
   "metadata": {},
   "outputs": [],
   "source": [
    "filtered_merged_df_stats = pd.concat([filtered_merged_df_train_stats, filtered_merged_df_test_stats])\n",
    "filtered_merged_df_model = pd.concat([filtered_merged_df_train_model, filtered_merged_df_test_model])"
   ]
  },
  {
   "cell_type": "code",
   "execution_count": null,
   "metadata": {},
   "outputs": [],
   "source": [
    "filtered_merged_df_stats.columns"
   ]
  },
  {
   "cell_type": "code",
   "execution_count": null,
   "metadata": {},
   "outputs": [],
   "source": [
    "# Show wrong data for all timestamps, including ones where no one in that timestamp has possession\n",
    "def select_row(group):\n",
    "    # Check if any row has non-NaN \"ball possession\" value\n",
    "    possession_rows = group.dropna(subset=[\"ball possession (id of possessed ball)\"])\n",
    "    \n",
    "    if not possession_rows.empty:\n",
    "        # Return row with ball possession\n",
    "        return possession_rows\n",
    "    else:\n",
    "        # Return first row of group\n",
    "        first_row = group.iloc[[0]].copy()\n",
    "        first_row[\"full name\"] += \"no_possession\"\n",
    "        return first_row"
   ]
  },
  {
   "cell_type": "code",
   "execution_count": null,
   "metadata": {},
   "outputs": [],
   "source": [
    "selected_rows_df_stats = filtered_merged_df_stats.groupby(by=[\"formatted local time\"]).progress_apply(select_row).reset_index(drop=True)\n",
    "selected_rows_df_stats[\"tag_text_check\"] = selected_rows_df_stats[\"full name\"] == selected_rows_df_stats[\"tag text\"]\n",
    "individual_game_stats = selected_rows_df_stats.groupby(\"game\")[\"tag_text_check\"].value_counts()\n",
    "print(individual_game_stats)"
   ]
  },
  {
   "cell_type": "code",
   "execution_count": null,
   "metadata": {},
   "outputs": [],
   "source": [
    "selected_rows_df_model = filtered_merged_df_model.groupby(by=[\"formatted local time\"]).progress_apply(select_row).reset_index(drop=True)\n",
    "selected_rows_df_model[\"tag_text_check\"] = selected_rows_df_model[\"full name\"] == selected_rows_df_model[\"tag text\"]\n",
    "individual_game_model = selected_rows_df_model.groupby(\"game\")[\"tag_text_check\"].value_counts()\n",
    "print(individual_game_model)"
   ]
  },
  {
   "cell_type": "code",
   "execution_count": null,
   "metadata": {},
   "outputs": [],
   "source": [
    "poss_set = set(selected_rows_df_model[selected_rows_df_model[\"tag_text_check\"] == True][\"formatted local time\"].unique())"
   ]
  },
  {
   "cell_type": "code",
   "execution_count": null,
   "metadata": {},
   "outputs": [],
   "source": [
    "# Show wrong data only for timestamps where someone has ball according to Kinexon data \n",
    "filtered_with_no_poss_stats = filtered_merged_df_stats.groupby(by=[\"formatted local time\", \"game\"]).filter(lambda x: not x[\"ball possession (id of possessed ball)\"].isna().all())\n",
    "filtered_no_poss_check_stats = filtered_with_no_poss_stats.dropna(subset=[\"ball possession (id of possessed ball)\"])\n",
    "filtered_no_poss_check_stats_copy = filtered_no_poss_check_stats.copy()\n",
    "filtered_no_poss_check_stats_copy[\"tag_text_check\"] = filtered_no_poss_check_stats_copy[\"tag text\"] == filtered_no_poss_check_stats_copy[\"full name\"]\n",
    "individual_game_stats_other_stats = filtered_no_poss_check_stats_copy.groupby(\"game\")[\"tag_text_check\"].value_counts()\n",
    "print(individual_game_stats_other_stats)"
   ]
  },
  {
   "cell_type": "code",
   "execution_count": null,
   "metadata": {},
   "outputs": [],
   "source": [
    "# Show wrong data only for timestamps where someone has ball according to Kinexon data \n",
    "filtered_with_no_poss_model = filtered_merged_df_model.groupby(by=[\"formatted local time\", \"game\"]).filter(lambda x: not x[\"ball possession (id of possessed ball)\"].isna().all())\n",
    "filtered_no_poss_check_model = filtered_with_no_poss_model.dropna(subset=[\"ball possession (id of possessed ball)\"])\n",
    "filtered_no_poss_check_model_copy = filtered_no_poss_check_model.copy()\n",
    "filtered_no_poss_check_model_copy[\"tag_text_check\"] = filtered_no_poss_check_model_copy[\"tag text\"] == filtered_no_poss_check_model_copy[\"full name\"]\n",
    "individual_game_stats_other_model = filtered_no_poss_check_model_copy.groupby(\"game\")[\"tag_text_check\"].value_counts()\n",
    "print(individual_game_stats_other_model)"
   ]
  },
  {
   "cell_type": "code",
   "execution_count": null,
   "metadata": {},
   "outputs": [],
   "source": [
    "no_poss_set = set(filtered_no_poss_check_model_copy[filtered_no_poss_check_model_copy[\"tag_text_check\"] == True][\"formatted local time\"].unique())\n",
    "no_poss_set.difference(poss_set)"
   ]
  },
  {
   "cell_type": "markdown",
   "metadata": {},
   "source": [
    "## Statistics for passes"
   ]
  },
  {
   "cell_type": "code",
   "execution_count": null,
   "metadata": {},
   "outputs": [],
   "source": [
    "fle_kie_tags = pd.read_csv(r\"handball_sample\\MD05_Flensburg_Kiel\\tags_flensburg_kiel_md5_s2324.csv\", sep=\";\")"
   ]
  },
  {
   "cell_type": "code",
   "execution_count": null,
   "metadata": {},
   "outputs": [],
   "source": [
    "fle_kie_tags[\"tag text\"].unique()"
   ]
  },
  {
   "cell_type": "code",
   "execution_count": null,
   "metadata": {},
   "outputs": [],
   "source": [
    "start_index = fle_kie_tags[fle_kie_tags[\"tag text\"] == \"game_start\"].index[0]"
   ]
  },
  {
   "cell_type": "code",
   "execution_count": null,
   "metadata": {},
   "outputs": [],
   "source": [
    "fle_kie_tags = fle_kie_tags.iloc[start_index:]\n",
    "fle_kie_tags"
   ]
  },
  {
   "cell_type": "code",
   "execution_count": null,
   "metadata": {},
   "outputs": [],
   "source": [
    "non_player_tags = [\"ball_not_visible\", \"game_start\", \"time_check_position\"]\n",
    "\n",
    "player_tags = fle_kie_tags[~fle_kie_tags[\"tag text\"].isin(non_player_tags)]\n",
    "\n",
    "time_diffs = []\n",
    "prev_time = None\n",
    "for index, row in player_tags.iterrows():\n",
    "    if row[\"tag text\"] == \"no_possession\":\n",
    "        prev_time = row[\"# time (in ms)\"]\n",
    "    elif prev_time is not None:\n",
    "        time_diffs.append(row[\"# time (in ms)\"] - prev_time)\n",
    "        prev_time = None\n",
    "\n",
    "time_diffs = [elem for elem in time_diffs if elem < 3000] # Remove every instance longer than three seconds \n",
    "\n",
    "average_time = statistics.mean(time_diffs)\n",
    "std_time = statistics.stdev(time_diffs)\n",
    "\n",
    "print(f\"Average time from 'no_possession' to player's tag: {average_time} ms, standard deviation: {std_time} ms\")"
   ]
  },
  {
   "cell_type": "code",
   "execution_count": null,
   "metadata": {},
   "outputs": [],
   "source": [
    "# Histogram for time bins\n",
    "sns.set_style(\"whitegrid\")\n",
    "plt.figure(figsize=(10, 6))\n",
    "sns.histplot(time_diffs, bins=6, kde=False, palette=\"ch:s=.25,rot=-.25\")\n",
    "sns.set_theme(font_scale=1.3)\n",
    "plt.title(\"Histogram of time durations for a pass in the game Flensburg vs Kiel\")\n",
    "plt.xlabel(\"Duration in ms\")\n",
    "plt.ylabel(\"Frequency\")\n",
    "# sns.despine(trim=True)\n",
    "plt.show()"
   ]
  },
  {
   "cell_type": "markdown",
   "metadata": {},
   "source": [
    "## Statistics for possession change"
   ]
  },
  {
   "cell_type": "code",
   "execution_count": null,
   "metadata": {},
   "outputs": [],
   "source": [
    "match_training = pd.read_csv(r\"handball_sample\\match_training_model.csv\", sep=\";\", index_col=0)"
   ]
  },
  {
   "cell_type": "code",
   "execution_count": null,
   "metadata": {},
   "outputs": [],
   "source": [
    "ball_data = match_training[match_training[\"full name\"].str.contains(\"ball\")]\n",
    "player_data = match_training[~match_training[\"full name\"].str.contains(\"ball\")]\n",
    "\n",
    "aligned_data = player_data.merge(ball_data[[\"formatted local time\", \"x in m\", \"y in m\", \"z in m\", \"speed in m/s\", \"acceleration in m/s2\", \"metabolic power in W/kg\", \"acceleration load\"]], \n",
    "                                on=\"formatted local time\", how=\"left\", suffixes=(\"_player\", \"_ball\"))\n",
    "\n",
    "aligned_data[\"distance_to_ball\"] = np.sqrt(\n",
    "    (aligned_data[\"x in m_player\"] - aligned_data[\"x in m_ball\"]) ** 2 +\n",
    "    (aligned_data[\"y in m_player\"] - aligned_data[\"y in m_ball\"]) ** 2\n",
    ")"
   ]
  },
  {
   "cell_type": "code",
   "execution_count": null,
   "metadata": {},
   "outputs": [],
   "source": [
    "aligned_data"
   ]
  },
  {
   "cell_type": "code",
   "execution_count": null,
   "metadata": {},
   "outputs": [],
   "source": [
    "cols_for_statistics = [\"speed in m/s_player\", \"acceleration in m/s2_player\", \"metabolic power in W/kg_player\", \"acceleration load_player\",\n",
    "                       \"speed in m/s_ball\", \"acceleration in m/s2_ball\", \"distance_to_ball\"]"
   ]
  },
  {
   "cell_type": "code",
   "execution_count": null,
   "metadata": {},
   "outputs": [],
   "source": [
    "# Timestamps where player has possession\n",
    "possession_df = aligned_data[aligned_data[\"full name\"] == aligned_data[\"tag text\"]]\n",
    "means_poss = round(possession_df[cols_for_statistics].mean(), 2)\n",
    "stds_poss = round(possession_df[cols_for_statistics].std(), 2)"
   ]
  },
  {
   "cell_type": "code",
   "execution_count": null,
   "metadata": {},
   "outputs": [],
   "source": [
    "# Timestamps with possession change\n",
    "possession_copy = possession_df.copy()\n",
    "possession_copy[\"prev_player\"] = possession_copy[\"full name\"].shift(1)\n",
    "\n",
    "possession_change_df = possession_copy[possession_copy[\"full name\"] != possession_copy[\"prev_player\"]]\n",
    "possession_change_df = possession_change_df.drop(columns=[\"full name\"])\n",
    "\n",
    "means_poss_change = round(possession_change_df[cols_for_statistics].mean(), 2)\n",
    "stds_poss_change = round(possession_change_df[cols_for_statistics].std(), 2)"
   ]
  },
  {
   "cell_type": "code",
   "execution_count": null,
   "metadata": {},
   "outputs": [],
   "source": [
    "# Other timestamps\n",
    "no_possession_players = aligned_data[~aligned_data.index.isin(possession_df.index)]\n",
    "means_no_poss = round(no_possession_players[cols_for_statistics].mean(), 2)\n",
    "stds_no_poss = round(no_possession_players[cols_for_statistics].std(), 2)\n",
    "\n",
    "summary_poss = means_poss.astype(str) + \" (\" + stds_poss.astype(str) + \")\"\n",
    "summary_poss_change = means_poss_change.astype(str) + \" (\" + stds_poss_change.astype(str) + \")\"\n",
    "summary_no_poss = means_no_poss.astype(str) + \" (\" + stds_no_poss.astype(str) + \")\""
   ]
  },
  {
   "cell_type": "code",
   "execution_count": null,
   "metadata": {},
   "outputs": [],
   "source": [
    "statistics_table = pd.DataFrame({\"Possession\": summary_poss,\n",
    "                                 \"Possession change\": summary_poss_change,\n",
    "                                 \"No possession\": summary_no_poss})\n",
    "statistics_table"
   ]
  },
  {
   "cell_type": "markdown",
   "metadata": {},
   "source": [
    "## Examples for initial processing"
   ]
  },
  {
   "cell_type": "code",
   "execution_count": null,
   "metadata": {},
   "outputs": [],
   "source": [
    "proc_ex = pd.read_csv(r\"handball_sample\\MD05_Flensburg_Kiel\\tags_flensburg_kiel_md5_s2324.csv\", sep=\";\").drop([\"player\"], axis=1)[:13]\n",
    "proc_ex = proc_ex.drop(proc_ex[proc_ex[\"tag text\"] == \"no_possession\"].index, axis=0).reset_index()\n",
    "proc_ex = proc_ex.drop([\"index\"], axis=1)\n",
    "start_time = proc_ex[proc_ex[\"tag text\"] == \"game_start\"][\"# time (in ms)\"].iloc[0]\n",
    "proc_ex"
   ]
  },
  {
   "cell_type": "code",
   "execution_count": null,
   "metadata": {},
   "outputs": [],
   "source": [
    "proc_ex[\"# time (in ms)\"] = proc_ex[\"# time (in ms)\"] - start_time\n",
    "proc_ex"
   ]
  },
  {
   "cell_type": "code",
   "execution_count": null,
   "metadata": {},
   "outputs": [],
   "source": [
    "game_ex = pd.read_csv(r\"handball_sample\\MD05_Flensburg_Kiel\\SG_Flensburg-Handewitt_vs._THW_phase_1.HZ_positions.csv\", sep=\";\")[30:40]\n",
    "game_ex"
   ]
  },
  {
   "cell_type": "code",
   "execution_count": null,
   "metadata": {},
   "outputs": [],
   "source": [
    "kinexon_poss_start = pd.to_datetime(game_ex.loc[37][\"formatted local time\"])\n",
    "proc_ex[\"adjusted_timestamp\"] = proc_ex[\"# time (in ms)\"].apply(lambda x: kinexon_poss_start + timedelta(milliseconds=x))\n",
    "proc_ex"
   ]
  },
  {
   "cell_type": "code",
   "execution_count": null,
   "metadata": {},
   "outputs": [],
   "source": [
    "def round_to_nearest_50ms(dt):\n",
    "    \"\"\" Round the timestamps to nearest 50ms.\n",
    "    \n",
    "    Parameters:\n",
    "    dt -- the datetime timestamps\n",
    "\n",
    "    Returns:\n",
    "    rounded_dt -- the timestamps rounded to nearest 50ms\n",
    "    \"\"\"\n",
    "    # Convert microseconds to milliseconds and round to nearest 50 milliseconds\n",
    "    milliseconds = round(dt.microsecond / 1000.0 / 50.0) * 50\n",
    "    # Rebuild datetime with new milliseconds, adjusting for overflow\n",
    "    new_second = dt.second\n",
    "    if milliseconds >= 1000:\n",
    "        milliseconds -= 1000\n",
    "        new_second += 1\n",
    "    # Ensure seconds don't overflow\n",
    "    if new_second >= 60:\n",
    "        new_second -= 60\n",
    "        dt += timedelta(minutes=1)\n",
    "    rounded_dt = dt.replace(second=new_second, microsecond=int(milliseconds * 1000))\n",
    "    return rounded_dt\n",
    "\n",
    "proc_ex[\"rounded_timestamp\"] = proc_ex[\"adjusted_timestamp\"].apply(round_to_nearest_50ms)\n",
    "proc_ex"
   ]
  },
  {
   "cell_type": "code",
   "execution_count": null,
   "metadata": {},
   "outputs": [],
   "source": [
    "# Forward fill tags df to have correct merging of match and tags df\n",
    "video_start_time = proc_ex[\"rounded_timestamp\"].iloc[0]\n",
    "table_end_time = proc_ex[\"rounded_timestamp\"].iloc[-1]\n",
    "\n",
    "# Create timestamp df with frequency of 20Hz (frequency of Kinexon data) from game start to end time\n",
    "all_timestamps = pd.date_range(start=video_start_time, end=table_end_time, freq=\"50L\")\n",
    "all_timestamps_df = pd.DataFrame(all_timestamps, columns=[\"timestamp\"])\n",
    "\n",
    "# Merge tags with all timestamps and forward fill\n",
    "proc_ex_full = pd.merge(all_timestamps_df, proc_ex, left_on=\"timestamp\", right_on=\"rounded_timestamp\", how=\"left\")\n",
    "proc_ex_full[\"tag text\"].replace([\"game_start\", \"no_possession\", \"time_check_position\"], np.nan, inplace=True)\n",
    "proc_ex = proc_ex.columns.difference([\"# time (in ms)\", \"adjusted_timestamp\"])\n",
    "for col in proc_ex:\n",
    "    proc_ex_full[col] = proc_ex_full[col].ffill()\n",
    "proc_ex_full.drop([\"adjusted_timestamp\", \"rounded_timestamp\", \"# time (in ms)\"], axis=1)"
   ]
  }
 ],
 "metadata": {
  "kernelspec": {
   "display_name": ".venv",
   "language": "python",
   "name": "python3"
  },
  "language_info": {
   "codemirror_mode": {
    "name": "ipython",
    "version": 3
   },
   "file_extension": ".py",
   "mimetype": "text/x-python",
   "name": "python",
   "nbconvert_exporter": "python",
   "pygments_lexer": "ipython3",
   "version": "3.11.8"
  }
 },
 "nbformat": 4,
 "nbformat_minor": 2
}
